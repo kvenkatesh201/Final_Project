{
 "cells": [
  {
   "cell_type": "code",
   "execution_count": 1,
   "metadata": {
    "collapsed": true
   },
   "outputs": [],
   "source": [
    "import pandas as pd\n",
    "import numpy as np\n",
    "import gzip,csv\n",
    "train = pd.read_csv(r'train.csv')\n",
    "N = float(len(train))\n",
    "DaysOfWeek = sorted(np.unique(train['DayOfWeek']))\n",
    "PdDistricts = sorted(np.unique(train['PdDistrict']))\n",
    "classes = sorted(np.unique(train['Category']))\n",
    "Sol =['Id']\n",
    "Sol += classes\n",
    "trainS = train[['DayOfWeek','PdDistrict','Category']]\n"
   ]
  },
  {
   "cell_type": "code",
   "execution_count": 2,
   "metadata": {
    "collapsed": true
   },
   "outputs": [],
   "source": [
    "dictDay = {}\n",
    "dictCat = {}\n",
    "dictDayWithCat={}\n"
   ]
  },
  {
   "cell_type": "code",
   "execution_count": 3,
   "metadata": {
    "collapsed": true
   },
   "outputs": [],
   "source": [
    "for i in DaysOfWeek:\n",
    "    for j in classes:\n",
    "        selected = trainS[ trainS['Category']==j][['DayOfWeek']]\n",
    "        selectedDay = len(trainS[trainS['DayOfWeek']==i][['DayOfWeek']])\n",
    "        if len(selected)!=0:\n",
    "            selectedWithDay = selected [ selected['DayOfWeek']==i]['DayOfWeek']\n",
    "            probDbyC = len(selectedWithDay)/float(len(selected))\n",
    "            probD = selectedDay/N\n",
    "            probC = len(selected)/N\n",
    "            dictDay[i]=probD\n",
    "            dictCat[j]=probC\n",
    "            dictDayWithCat[(i,j)]=probDbyC\n"
   ]
  },
  {
   "cell_type": "code",
   "execution_count": 4,
   "metadata": {
    "collapsed": true
   },
   "outputs": [],
   "source": [
    "dictDis = {}\n",
    "dictDisWithCat={}\n"
   ]
  },
  {
   "cell_type": "code",
   "execution_count": 5,
   "metadata": {
    "collapsed": true
   },
   "outputs": [],
   "source": [
    "for i in PdDistricts:\n",
    "    for j in classes:\n",
    "        selected = trainS[ trainS['Category']==j][['PdDistrict']]\n",
    "        selectedDis = len(trainS[trainS['PdDistrict']==i][['PdDistrict']])\n",
    "        if len(selected)!=0:\n",
    "            selectedWithDis = selected [ selected['PdDistrict']==i]['PdDistrict']\n",
    "            probDbyC = len(selectedWithDis)/float(len(selected))\n",
    "            probD = selectedDis/N\n",
    "            dictDis[i]=probD\n",
    "            dictDisWithCat[(i,j)]=probDbyC"
   ]
  },
  {
   "cell_type": "code",
   "execution_count": 6,
   "metadata": {
    "collapsed": true
   },
   "outputs": [],
   "source": [
    "#print len(dictDis),len(dictDisWithCat)\n",
    "test = pd.read_csv(r'test.csv')\n",
    "outf = gzip.open(r'Output.csv.gz','w')\n",
    "fo = csv.writer(outf, lineterminator='\\n')\n",
    "fo.writerow(Sol)\n",
    "for (idd,dist,day) in zip(test['Id'],test['PdDistrict'],test['DayOfWeek']):\n",
    "    sol = [idd]\n",
    "    for _class in classes:\n",
    "        ans1 = dictDisWithCat[(dist,_class)] * dictDayWithCat[(day,_class)] * dictCat[_class]\n",
    "        ans2 = dictDay[day] * dictDis[dist]\n",
    "        ans = ans1/ans2\n",
    "        sol.append(ans)\n",
    "    fo.writerow(sol)\n"
   ]
  },
  {
   "cell_type": "code",
   "execution_count": 7,
   "metadata": {
    "collapsed": true
   },
   "outputs": [],
   "source": [
    "#EDA"
   ]
  },
  {
   "cell_type": "code",
   "execution_count": 8,
   "metadata": {
    "collapsed": true
   },
   "outputs": [],
   "source": [
    "import zipfile\n",
    "import matplotlib.pyplot as pl\n"
   ]
  },
  {
   "cell_type": "code",
   "execution_count": 9,
   "metadata": {
    "collapsed": false
   },
   "outputs": [
    {
     "name": "stdout",
     "output_type": "stream",
     "text": [
      "['train.csv']\n"
     ]
    }
   ],
   "source": [
    "z = zipfile.ZipFile('train.csv.zip')\n",
    "print(z.namelist())\n"
   ]
  },
  {
   "cell_type": "code",
   "execution_count": 10,
   "metadata": {
    "collapsed": true
   },
   "outputs": [],
   "source": [
    "train = pd.read_csv(z.open('train.csv'), parse_dates=['Dates'])"
   ]
  },
  {
   "cell_type": "code",
   "execution_count": 11,
   "metadata": {
    "collapsed": true
   },
   "outputs": [],
   "source": [
    "train['Year'] = train['Dates'].map(lambda x: x.year)\n",
    "train['Week'] = train['Dates'].map(lambda x: x.week)\n",
    "train['Hour'] = train['Dates'].map(lambda x: x.hour)"
   ]
  },
  {
   "cell_type": "code",
   "execution_count": 12,
   "metadata": {
    "collapsed": false
   },
   "outputs": [
    {
     "name": "stdout",
     "output_type": "stream",
     "text": [
      "                Dates        Category                      Descript  \\\n",
      "0 2015-05-13 23:53:00        WARRANTS                WARRANT ARREST   \n",
      "1 2015-05-13 23:53:00  OTHER OFFENSES      TRAFFIC VIOLATION ARREST   \n",
      "2 2015-05-13 23:33:00  OTHER OFFENSES      TRAFFIC VIOLATION ARREST   \n",
      "3 2015-05-13 23:30:00   LARCENY/THEFT  GRAND THEFT FROM LOCKED AUTO   \n",
      "4 2015-05-13 23:30:00   LARCENY/THEFT  GRAND THEFT FROM LOCKED AUTO   \n",
      "\n",
      "   DayOfWeek PdDistrict      Resolution                    Address  \\\n",
      "0  Wednesday   NORTHERN  ARREST, BOOKED         OAK ST / LAGUNA ST   \n",
      "1  Wednesday   NORTHERN  ARREST, BOOKED         OAK ST / LAGUNA ST   \n",
      "2  Wednesday   NORTHERN  ARREST, BOOKED  VANNESS AV / GREENWICH ST   \n",
      "3  Wednesday   NORTHERN            NONE   1500 Block of LOMBARD ST   \n",
      "4  Wednesday       PARK            NONE  100 Block of BRODERICK ST   \n",
      "\n",
      "            X          Y  Year  Week  Hour  \n",
      "0 -122.425892  37.774599  2015    20    23  \n",
      "1 -122.425892  37.774599  2015    20    23  \n",
      "2 -122.424363  37.800414  2015    20    23  \n",
      "3 -122.426995  37.800873  2015    20    23  \n",
      "4 -122.438738  37.771541  2015    20    23  \n"
     ]
    }
   ],
   "source": [
    "print(train.head())"
   ]
  },
  {
   "cell_type": "code",
   "execution_count": 13,
   "metadata": {
    "collapsed": true
   },
   "outputs": [],
   "source": [
    "train.PdDistrict.value_counts().plot(kind='bar', figsize=(8,10))\n",
    "pl.savefig('district_counts.png')\n"
   ]
  },
  {
   "cell_type": "code",
   "execution_count": 14,
   "metadata": {
    "collapsed": true
   },
   "outputs": [],
   "source": [
    "train['event']=1\n",
    "weekly_events = train[['Week','Year','event']].groupby(['Year','Week']).count().reset_index()\n",
    "weekly_events_years = weekly_events.pivot(index='Week', columns='Year', values='event').fillna(method='ffill')\n",
    "#%matplotlib inline\n",
    "ax = weekly_events_years.interpolate().plot(title='number of cases every 2 weeks', figsize=(10,6))\n",
    "pl.savefig('events_every_two_weeks.png')"
   ]
  },
  {
   "cell_type": "code",
   "execution_count": 15,
   "metadata": {
    "collapsed": true
   },
   "outputs": [],
   "source": [
    "hourly_events = train[['Hour','event']].groupby(['Hour']).count().reset_index()\n",
    "hourly_events.plot(kind='bar', figsize=(6, 6))\n",
    "pl.savefig('hourly_events.png')"
   ]
  },
  {
   "cell_type": "code",
   "execution_count": 16,
   "metadata": {
    "collapsed": true
   },
   "outputs": [],
   "source": [
    "hourly_district_events = train[['PdDistrict','Hour','event']].groupby(['PdDistrict','Hour']).count().reset_index()\n",
    "hourly_district_events_pivot = hourly_district_events.pivot(index='Hour', columns='PdDistrict', values='event').fillna(method='ffill')\n",
    "hourly_district_events_pivot.interpolate().plot(title='number of cases hourly by district', figsize=(10,6))\n",
    "pl.savefig('hourly_events_by_district.png')"
   ]
  },
  {
   "cell_type": "code",
   "execution_count": null,
   "metadata": {
    "collapsed": true
   },
   "outputs": [],
   "source": []
  }
 ],
 "metadata": {
  "kernelspec": {
   "display_name": "Python 2",
   "language": "python",
   "name": "python2"
  },
  "language_info": {
   "codemirror_mode": {
    "name": "ipython",
    "version": 2
   },
   "file_extension": ".py",
   "mimetype": "text/x-python",
   "name": "python",
   "nbconvert_exporter": "python",
   "pygments_lexer": "ipython2",
   "version": "2.7.10"
  }
 },
 "nbformat": 4,
 "nbformat_minor": 0
}
